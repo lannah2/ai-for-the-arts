{
 "cells": [
  {
   "cell_type": "markdown",
   "metadata": {},
   "source": [
    "# AI for the Arts and Humanities Notebook \n",
    "\n",
    "### Task: Discuss what this Notebook is for\n",
    "This notebook will be used to learn basic programming concepts and improve my understanding of reading and presenting code.\n",
    "\n",
    "### Task: Create a Bulleted List of things you would like to Achieve\n",
    "- Learn how to read and write basic code\n",
    "- Learn to comprehend different programming features\n",
    "- Create a portfolio with accurate and precise code"
   ]
  },
  {
   "cell_type": "markdown",
   "metadata": {},
   "source": [
    "### Hello, World!\n",
    "\n",
    "The code below marks mt first attempt at coding within the AI for the Arts and Humanitites course. It is intended to air and develop my understanding of writing and running code in GitHub Codespaces."
   ]
  },
  {
   "cell_type": "code",
   "execution_count": 1,
   "metadata": {},
   "outputs": [
    {
     "name": "stdout",
     "output_type": "stream",
     "text": [
      "Hello, World!\n"
     ]
    }
   ],
   "source": [
    "print(\"Hello, World!\")"
   ]
  }
 ],
 "metadata": {
  "kernelspec": {
   "display_name": "Python 3",
   "language": "python",
   "name": "python3"
  },
  "language_info": {
   "codemirror_mode": {
    "name": "ipython",
    "version": 3
   },
   "file_extension": ".py",
   "mimetype": "text/x-python",
   "name": "python",
   "nbconvert_exporter": "python",
   "pygments_lexer": "ipython3",
   "version": "3.12.1"
  }
 },
 "nbformat": 4,
 "nbformat_minor": 2
}
