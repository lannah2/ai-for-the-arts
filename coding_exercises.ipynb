{
 "cells": [
  {
   "cell_type": "markdown",
   "metadata": {},
   "source": [
    "# AI for the Arts and Humanities Notebook \n",
    "\n",
    "### Task: Discuss what this Notebook is for\n",
    "This notebook will be used to learn basic programming concepts and improve my understanding of reading and presenting code.\n",
    "\n",
    "### Task: Create a Bulleted List of things you would like to Achieve\n",
    "- Learn how to read and write basic code\n",
    "- Learn to comprehend different programming features\n",
    "- Create a portfolio with accurate and precise code"
   ]
  },
  {
   "cell_type": "markdown",
   "metadata": {},
   "source": [
    "### Hello, World!\n",
    "\n",
    "The code below marks mt first attempt at coding within the AI for the Arts and Humanitites course. It is intended to air and develop my understanding of writing and running code in GitHub Codespaces."
   ]
  },
  {
   "cell_type": "code",
   "execution_count": 1,
   "metadata": {},
   "outputs": [
    {
     "name": "stdout",
     "output_type": "stream",
     "text": [
      "Hello, World!\n"
     ]
    }
   ],
   "source": [
    "print(\"Hello, World!\")"
   ]
  },
  {
   "cell_type": "markdown",
   "metadata": {},
   "source": [
    "## Printing\n",
    "\n",
    "### Prompt submitted to Copilot:\n",
    "Could you suggest a python\n",
    "code for ‘Hello, world!’to demonstrate the concept of printing to a\n",
    "complete beginner in programming? Please explain the code step-by-step\n",
    "highlighting any key aspects.\n",
    "\n",
    "### Key learning outcomes:\n",
    "Copilot provided a step-by-step explanation of the purpose of the print (displays output on the screen), text strings (sequences of characters enclosed in quotes), quotes (you can use either single or double quotes to define a string) and parenthesis (used to pass arguments to functions) elements.\n",
    "\n",
    "It also dissected the key aspects such as syntax (simple and readable), indentation (used to define the structure of the code) and comments (ignored by the Python interpreter and used to explain the code) - providing an example of a comment to supplement the description."
   ]
  },
  {
   "cell_type": "code",
   "execution_count": 1,
   "metadata": {},
   "outputs": [
    {
     "name": "stdout",
     "output_type": "stream",
     "text": [
      "Hello, world!\n"
     ]
    }
   ],
   "source": [
    "\n",
    "# This line prints 'Hello, world!' to the screen\n",
    "print(\"Hello, world!\")"
   ]
  },
  {
   "cell_type": "markdown",
   "metadata": {},
   "source": [
    "### Copilot's suggested Prompt:\n",
    "Can you explain functions in Python?\n",
    "\n",
    "### Key Learning Outcomes:\n",
    "Copilot provided an analysis of what a function is, as well as how to define them:\n",
    "- 'A function is a block of code that performs a specific task. Functions help break down complex problems into smaller, manageable pieces and promote code reuse.\n",
    "- You define a function using the def keyword, followed by the function name, parentheses, and a colon. Inside the function, you write the code that performs the task'.\n",
    "\n",
    "It also detailed how to call a function (call it by its name followed by parentheses), how to use functions with return values(using the return keyword), and breaks down the key aspects of functions into:\n",
    "- Modularity: Functions help break down complex code into smaller, manageable pieces.\n",
    "- Reusability: Once defined, functions can be reused multiple times throughout your code.\n",
    "- Readability: Functions make your code easier to read and understand.\n",
    "- Parameters and Return Values: Functions can accept parameters and return values, making them flexible and powerful.\n"
   ]
  },
  {
   "cell_type": "code",
   "execution_count": 6,
   "metadata": {},
   "outputs": [
    {
     "name": "stdout",
     "output_type": "stream",
     "text": [
      "Hello, Alice!\n",
      "8\n"
     ]
    }
   ],
   "source": [
    "\n",
    "def greet(name):\n",
    "    print(f\"Hello, {name}!\")\n",
    "    \n",
    "greet(\"Alice\")\n",
    "\n",
    "def add(a, b):\n",
    "    return a + b\n",
    "\n",
    "result = add(3, 5)\n",
    "print(result) #This will print 8\n"
   ]
  },
  {
   "cell_type": "markdown",
   "metadata": {},
   "source": [
    "### Copilot's suggested Prompt:\n",
    "What are some built-in functions in Python?\n",
    "\n",
    "Copilot explained that 'Python comes with a rich set of built-in functions that you can use without needing to import any additional modules'.\n",
    "\n",
    "It provided examples of common built-in functions including:\n",
    "- print: Displays output to the screen\n",
    "- len: Returns the length of an object\n",
    "- type: Returns the type of an object\n",
    "- int, float, str: Converts values to integers, floats, or strings, respectively\n",
    "- input: Reads a string from user input\n",
    "- sum: Returns the sum of all items in an iterable (like a list).\n",
    "- max and min: Return the largest and smallest items in an iterable\n",
    "- abs: Returns the absolute value of a number\n",
    "- round: Rounds a number to a specified number of decimal places\n",
    "- sorted: Returns a sorted list from the items in an iterable\n",
    "\n",
    "It also examines key aspects such as ease of use, versatility, and the fact that there are no imports needed."
   ]
  },
  {
   "cell_type": "code",
   "execution_count": 17,
   "metadata": {},
   "outputs": [
    {
     "name": "stdout",
     "output_type": "stream",
     "text": [
      "Hello, world!\n",
      "Hello\n"
     ]
    },
    {
     "data": {
      "text/plain": [
       "[1, 1, 3, 4, 5, 9]"
      ]
     },
     "execution_count": 17,
     "metadata": {},
     "output_type": "execute_result"
    }
   ],
   "source": [
    "\n",
    "print(\"Hello, world!\")\n",
    "\n",
    "len(\"Hello\") # Returns 5\n",
    "\n",
    "type(42) # Returns <class 'int'>\n",
    "\n",
    "int(\"42\")  # Converts string to integer\n",
    "float(\"3.14\")  # Converts string to float\n",
    "str(42)  # Converts integer to string\n",
    "\n",
    "name = input(\"Enter your name:\")\n",
    "print(f\"Hello{name}\")\n",
    "\n",
    "sum([1, 2, 3, 4])  # Returns 10\n",
    "\n",
    "max([1, 2, 3, 4])  # Returns 4\n",
    "min([1, 2, 3, 4])  # Returns 1\n",
    "\n",
    "abs(-5) # Returns 5\n",
    "\n",
    "round(3.14159, 2)  # Returns 3.14\n",
    "\n",
    "sorted([3, 1, 4, 1, 5, 9])  # Returns [1, 1, 3, 4, 5, 9]\n"
   ]
  }
 ],
 "metadata": {
  "kernelspec": {
   "display_name": "Python 3",
   "language": "python",
   "name": "python3"
  },
  "language_info": {
   "codemirror_mode": {
    "name": "ipython",
    "version": 3
   },
   "file_extension": ".py",
   "mimetype": "text/x-python",
   "name": "python",
   "nbconvert_exporter": "python",
   "pygments_lexer": "ipython3",
   "version": "3.12.1"
  }
 },
 "nbformat": 4,
 "nbformat_minor": 2
}
