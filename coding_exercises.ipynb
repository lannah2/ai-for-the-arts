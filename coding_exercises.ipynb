{
 "cells": [
  {
   "cell_type": "markdown",
   "metadata": {},
   "source": [
    "# AI for the Arts and Humanities Notebook \n",
    "\n",
    "### Task: Discuss what this Notebook is for\n",
    "This notebook will be used to learn basic programming concepts and improve my understanding of reading and presenting code.\n",
    "\n",
    "### Task: Create a Bulleted List of things you would like to Achieve\n",
    "- Learn how to read and write basic code\n",
    "- Learn to comprehend different programming features\n",
    "- Create a portfolio with accurate and precise code"
   ]
  },
  {
   "cell_type": "markdown",
   "metadata": {},
   "source": [
    "### Hello, World!\n",
    "\n",
    "The code below marks mt first attempt at coding within the AI for the Arts and Humanitites course. It is intended to air and develop my understanding of writing and running code in GitHub Codespaces."
   ]
  },
  {
   "cell_type": "code",
   "execution_count": 1,
   "metadata": {},
   "outputs": [
    {
     "name": "stdout",
     "output_type": "stream",
     "text": [
      "Hello, World!\n"
     ]
    }
   ],
   "source": [
    "print(\"Hello, World!\")"
   ]
  },
  {
   "cell_type": "markdown",
   "metadata": {},
   "source": [
    "## Task: Understand what Microsoft Copilot is and why it's Helpful\n",
    "\n",
    "### Printing\n",
    "\n",
    "### Prompt submitted to Copilot:\n",
    "Could you suggest a python\n",
    "code for ‘Hello, world!’to demonstrate the concept of printing to a\n",
    "complete beginner in programming? Please explain the code step-by-step\n",
    "highlighting any key aspects.\n",
    "\n",
    "### Key learning outcomes:\n",
    "Copilot provided a step-by-step explanation of the purpose of the print (displays output on the screen), text strings (sequences of characters enclosed in quotes), quotes (you can use either single or double quotes to define a string) and parenthesis (used to pass arguments to functions) elements.\n",
    "\n",
    "It also dissected the key aspects such as syntax (simple and readable), indentation (used to define the structure of the code) and comments (ignored by the Python interpreter and used to explain the code) - providing an example of a comment to supplement the description."
   ]
  },
  {
   "cell_type": "code",
   "execution_count": 1,
   "metadata": {},
   "outputs": [
    {
     "name": "stdout",
     "output_type": "stream",
     "text": [
      "Hello, world!\n"
     ]
    }
   ],
   "source": [
    "\n",
    "# This line prints 'Hello, world!' to the screen\n",
    "print(\"Hello, world!\")"
   ]
  },
  {
   "cell_type": "markdown",
   "metadata": {},
   "source": [
    "### Copilot's suggested Prompt:\n",
    "Can you explain functions in Python?\n",
    "\n",
    "### Key Learning Outcomes:\n",
    "Copilot provided an analysis of what a function is, as well as how to define them:\n",
    "- 'A function is a block of code that performs a specific task. Functions help break down complex problems into smaller, manageable pieces and promote code reuse.\n",
    "- You define a function using the def keyword, followed by the function name, parentheses, and a colon. Inside the function, you write the code that performs the task'.\n",
    "\n",
    "It also detailed how to call a function (call it by its name followed by parentheses), how to use functions with return values(using the return keyword), and breaks down the key aspects of functions into:\n",
    "- Modularity: Functions help break down complex code into smaller, manageable pieces.\n",
    "- Reusability: Once defined, functions can be reused multiple times throughout your code.\n",
    "- Readability: Functions make your code easier to read and understand.\n",
    "- Parameters and Return Values: Functions can accept parameters and return values, making them flexible and powerful.\n"
   ]
  },
  {
   "cell_type": "code",
   "execution_count": 6,
   "metadata": {},
   "outputs": [
    {
     "name": "stdout",
     "output_type": "stream",
     "text": [
      "Hello, Alice!\n",
      "8\n"
     ]
    }
   ],
   "source": [
    "\n",
    "def greet(name):\n",
    "    print(f\"Hello, {name}!\")\n",
    "    \n",
    "greet(\"Alice\")\n",
    "\n",
    "def add(a, b):\n",
    "    return a + b\n",
    "\n",
    "result = add(3, 5)\n",
    "print(result) #This will print 8\n"
   ]
  },
  {
   "cell_type": "markdown",
   "metadata": {},
   "source": [
    "### Copilot's suggested Prompt:\n",
    "What are some built-in functions in Python?\n",
    "\n",
    "Copilot explained that 'Python comes with a rich set of built-in functions that you can use without needing to import any additional modules'.\n",
    "\n",
    "It provided examples of common built-in functions including:\n",
    "- print: Displays output to the screen\n",
    "- len: Returns the length of an object\n",
    "- type: Returns the type of an object\n",
    "- int, float, str: Converts values to integers, floats, or strings, respectively\n",
    "- input: Reads a string from user input\n",
    "- sum: Returns the sum of all items in an iterable (like a list).\n",
    "- max and min: Return the largest and smallest items in an iterable\n",
    "- abs: Returns the absolute value of a number\n",
    "- round: Rounds a number to a specified number of decimal places\n",
    "- sorted: Returns a sorted list from the items in an iterable\n",
    "\n",
    "It also examines key aspects such as ease of use, versatility, and the fact that there are no imports needed."
   ]
  },
  {
   "cell_type": "code",
   "execution_count": 17,
   "metadata": {},
   "outputs": [
    {
     "name": "stdout",
     "output_type": "stream",
     "text": [
      "Hello, world!\n",
      "Hello\n"
     ]
    },
    {
     "data": {
      "text/plain": [
       "[1, 1, 3, 4, 5, 9]"
      ]
     },
     "execution_count": 17,
     "metadata": {},
     "output_type": "execute_result"
    }
   ],
   "source": [
    "\n",
    "print(\"Hello, world!\")\n",
    "\n",
    "len(\"Hello\") # Returns 5\n",
    "\n",
    "type(42) # Returns <class 'int'>\n",
    "\n",
    "int(\"42\")  # Converts string to integer\n",
    "float(\"3.14\")  # Converts string to float\n",
    "str(42)  # Converts integer to string\n",
    "\n",
    "name = input(\"Enter your name:\")\n",
    "print(f\"Hello{name}\")\n",
    "\n",
    "sum([1, 2, 3, 4])  # Returns 10\n",
    "\n",
    "max([1, 2, 3, 4])  # Returns 4\n",
    "min([1, 2, 3, 4])  # Returns 1\n",
    "\n",
    "abs(-5) # Returns 5\n",
    "\n",
    "round(3.14159, 2)  # Returns 3.14\n",
    "\n",
    "sorted([3, 1, 4, 1, 5, 9])  # Returns [1, 1, 3, 4, 5, 9]\n"
   ]
  },
  {
   "cell_type": "markdown",
   "metadata": {},
   "source": [
    "## Task: Run Some Prompts in Microsoft Copilot\n",
    "## 1. Variables\n",
    "### Initial Prompt:\n",
    "Could you suggest a modification of the Python code for “Hello, world!” to demonstrate the concept of variables to a complete beginner in programming? Please explain the code step-by-step highlighting any key aspects.\n",
    "#### Key Learning Outcomes:\n",
    "Copilot efficiently provides an example of code which includes variables, and then dissects the included elements. First, it explains how to define a variable.\n",
    "- Variable Name: message is the name of the variable. You can choose any name for a variable, but it's best to use meaningful names.\n",
    "- Assignment: The = sign is used to assign a value to the variable.\n",
    "- Value: \"Hello, world!\" is the value assigned to the variable. In this case, it's a string (a sequence of characters).\n",
    "Here is the code which was provided by Copilot:"
   ]
  },
  {
   "cell_type": "code",
   "execution_count": 1,
   "metadata": {},
   "outputs": [
    {
     "name": "stdout",
     "output_type": "stream",
     "text": [
      "Hello, world!\n"
     ]
    }
   ],
   "source": [
    "\n",
    "# Define a variable called 'message' and assign it the value \"Hello, world!\"\n",
    "message = \"Hello, world!\"\n",
    "\n",
    "# Print the value of the 'message' variable\n",
    "print(message)\n"
   ]
  },
  {
   "cell_type": "markdown",
   "metadata": {},
   "source": [
    "Copilot then depicts how to use the variable.\n",
    "- print() Function: This function is used to display output on the screen.\n",
    "- Variable Usage: Inside the print() function, we use the variable message. This tells Python to print the value stored in message.\n",
    "\n",
    "Finally, Copilot analyses the key elements present within variable code.\n",
    "- Variables: Variables are used to store data that can be used and manipulated throughout the program. They make the code more flexible and easier to understand.\n",
    "- Strings: In this example, the value assigned to the variable is a string. Strings are enclosed in quotes (\" or ').\n",
    "- Functions: print() is a built-in function in Python that outputs data to the screen.\n",
    "\n",
    "Below is an example of using variables to modify the value of the message:"
   ]
  },
  {
   "cell_type": "code",
   "execution_count": 2,
   "metadata": {},
   "outputs": [
    {
     "name": "stdout",
     "output_type": "stream",
     "text": [
      "Welcome to Python programming!\n"
     ]
    }
   ],
   "source": [
    "\n",
    "message = \"Welcome to Python programming!\"\n",
    "print(message)"
   ]
  },
  {
   "cell_type": "markdown",
   "metadata": {},
   "source": [
    "### Suggested Prompt:\n",
    "How do I create multiple variables?\n",
    "#### Key Learning Outcomes:\n",
    "Copilot states that to create multiple variables, you must define each variable and assign a value to it.\n",
    "\n",
    "The key aspects which Copilot explains are:\n",
    "- Multiple Variables: You can define as many variables as you need, each with its own name and value.\n",
    "- Data Types: Variables can store different types of data, such as strings (\"Hello\"), integers (25), and more.\n",
    "- Flexibility: You can change the values of the variables at any time.\n",
    "\n",
    "Here is an example of the code Copilot presented:"
   ]
  },
  {
   "cell_type": "code",
   "execution_count": 3,
   "metadata": {},
   "outputs": [
    {
     "name": "stdout",
     "output_type": "stream",
     "text": [
      "Hello\n",
      "Alice\n",
      "25\n"
     ]
    }
   ],
   "source": [
    "# Define multiple variables\n",
    "greeting = \"Hello\"\n",
    "name = \"Alice\"\n",
    "age = 25\n",
    "\n",
    "# Print the values of the variables\n",
    "print(greeting)\n",
    "print(name)\n",
    "print(age)"
   ]
  },
  {
   "cell_type": "markdown",
   "metadata": {},
   "source": [
    "### My Own Prompt (further explanation):\n",
    "How would you print more than one message?\n",
    "\n",
    "#### Key Learning Outcomes:\n",
    "Copilt explains that there are two methods to print multiple statements - you can either use the print function multiple times, or use a single print function to combine messages. \n",
    "\n",
    "Below are examples of both methods:"
   ]
  },
  {
   "cell_type": "code",
   "execution_count": 4,
   "metadata": {},
   "outputs": [
    {
     "name": "stdout",
     "output_type": "stream",
     "text": [
      "Hello, world!\n",
      "Welcome to Python programming!\n",
      "Let's learn together!\n"
     ]
    }
   ],
   "source": [
    "\n",
    "message1 = \"Hello, world!\"\n",
    "message2 = \"Welcome to Python programming!\"\n",
    "message3 = \"Let's learn together!\"\n",
    "\n",
    "# Print each message separately\n",
    "print(message1)\n",
    "print(message2)\n",
    "print(message3)\n"
   ]
  },
  {
   "cell_type": "code",
   "execution_count": 5,
   "metadata": {},
   "outputs": [
    {
     "name": "stdout",
     "output_type": "stream",
     "text": [
      "Hello, world! Welcome to Python programming! Let's learn together!\n"
     ]
    }
   ],
   "source": [
    "\n",
    "message1 = \"Hello, world!\"\n",
    "message2 = \"Welcome to Python programming!\"\n",
    "message3 = \"Let's learn together!\"\n",
    "\n",
    "# Print all messages in one line\n",
    "print(message1, message2, message3)\n"
   ]
  },
  {
   "cell_type": "markdown",
   "metadata": {},
   "source": [
    "Copilot also declares that you can use 'String Concatenation':"
   ]
  },
  {
   "cell_type": "code",
   "execution_count": 6,
   "metadata": {},
   "outputs": [
    {
     "name": "stdout",
     "output_type": "stream",
     "text": [
      "Hello, world! Welcome to Python programming! Let's learn together!\n"
     ]
    }
   ],
   "source": [
    "\n",
    "# Define variables\n",
    "message1 = \"Hello, world!\"\n",
    "message2 = \"Welcome to Python programming!\"\n",
    "message3 = \"Let's learn together!\"\n",
    "\n",
    "# Concatenate messages and print\n",
    "combined_message = message1 + \" \" + message2 + \" \" + message3\n",
    "print(combined_message)\n"
   ]
  },
  {
   "cell_type": "markdown",
   "metadata": {},
   "source": [
    "## 2. Functions\n",
    "### Initial Prompt:\n",
    "\n",
    "Could you suggest a modification of the Python code for “Hello, world!” to demonstrate the concept of functions to a complete beginner in programming? Please explain the code step-by-step highlighting any key aspects.\n",
    "\n",
    "#### Key Learning Outcomes:\n",
    "\n",
    "Copilot breaks down the key aspects of a code which utilises functions, and then provides an example:\n",
    "\n",
    "- Functions: Functions are reusable blocks of code that perform a specific task. They help organize and modularize code.\n",
    "- Function Definition: Use the def keyword to define a function, followed by the function name and parentheses.\n",
    "- Function Call: To execute the function, you call it by its name followed by parentheses.\n",
    "- Indentation: Proper indentation is crucial in Python to define the scope of the function."
   ]
  },
  {
   "cell_type": "code",
   "execution_count": 9,
   "metadata": {},
   "outputs": [
    {
     "name": "stdout",
     "output_type": "stream",
     "text": [
      "Hello, world!\n"
     ]
    }
   ],
   "source": [
    "\n",
    "# Define a function called 'greet'\n",
    "def greet():\n",
    "    # Inside the function, define a variable and assign it a value\n",
    "    message = \"Hello, world!\"\n",
    "    # Print the value of the 'message' variable\n",
    "    print(message)\n",
    "\n",
    "# Call the function 'greet' to execute the code inside it\n",
    "greet()\n"
   ]
  },
  {
   "cell_type": "markdown",
   "metadata": {},
   "source": [
    "### Suggested Prompt:\n",
    "Can you explain parameters in functions?\n",
    "#### Key Learning Outcomes:\n",
    "Copilot explains that paramaters act as a method of including information into a function - and this information is then used to perform a task.\n",
    "The key aspects given from Copilot are:\n",
    "- Parameters: Parameters are variables listed inside the parentheses in the function definition. They act as placeholders for the values (arguments) that will be passed to the function.\n",
    "- Arguments: Arguments are the actual values you pass to the function when you call it. They replace the parameters in the function.\n",
    "- Flexibility: Using parameters makes functions more flexible and reusable, as you can pass different values each time you call the function.\n",
    "\n",
    "Here is an example of code which utilises parameters in functions:"
   ]
  },
  {
   "cell_type": "code",
   "execution_count": 10,
   "metadata": {},
   "outputs": [
    {
     "name": "stdout",
     "output_type": "stream",
     "text": [
      "Hello, Alice!\n",
      "Hello, Bob!\n"
     ]
    }
   ],
   "source": [
    "\n",
    "\n",
    "# Define a function called 'greet_person' with a parameter 'name'\n",
    "def greet_person(name):\n",
    "    # Use the 'name' parameter to create a personalized message\n",
    "    message = \"Hello, \" + name + \"!\"\n",
    "    # Print the personalized message\n",
    "    print(message)\n",
    "\n",
    "# Call the function 'greet_person' with an argument\n",
    "greet_person(\"Alice\")\n",
    "greet_person(\"Bob\")\n",
    "\n"
   ]
  },
  {
   "cell_type": "markdown",
   "metadata": {},
   "source": [
    "### My Own Prompt (further explanation):\n",
    "What are the benefits of utilising parameters within functions?\n",
    "#### Key Learning Outcomes:\n",
    "Copilot provided 5 benefits of paraters:\n",
    "- Flexibility: Allow functions to handle different inputs, increasing versatility and reusability. For example, a function to calculate the area of a rectangle can take different lengths and widths as parameters.\n",
    "- Modularity: Parameters help break down complex problems into smaller, manageable pieces - making code easier to read, maintain, and debug.\n",
    "- Avoiding Hardcoding: Helps avoid hardcoding values within functions, making code more dynamic and adaptable to changes.\n",
    "- Improved Testing: Functions with parameters can be tested with various inputs, which ensures that they work correctly under various different conditions.\n",
    "- Encapsulation: Parameters help encapsulate the functionality within a function, reducing dependencies on global variables and improving code organization."
   ]
  },
  {
   "cell_type": "markdown",
   "metadata": {},
   "source": [
    "## 3. Loops\n",
    "### Initial Prompt:\n",
    "Could you suggest a modification of the Python code for “Hello, world!” to demonstrate the concept of loops to a complete beginner in programming? Please explain the code step-by-step highlighting any key aspects.\n",
    "#### Key Learning Outcomes:\n",
    "The key aspects of loops which Copilot provided are:\n",
    "- Loops: Loops allow you to execute a block of code multiple times without writing it out repeatedly.\n",
    "- Variables: Variables store data that can be used and manipulated throughout the program.\n",
    "- Indentation: Indentation is crucial in Python to define the scope of loops, functions, and other blocks of code.\n",
    "\n",
    "Here is an example of code which has implemented loops:"
   ]
  },
  {
   "cell_type": "code",
   "execution_count": 12,
   "metadata": {},
   "outputs": [
    {
     "name": "stdout",
     "output_type": "stream",
     "text": [
      "Hello, World!\n",
      "Hello, World!\n",
      "Hello, World!\n",
      "Hello, World!\n",
      "Hello, World!\n"
     ]
    }
   ],
   "source": [
    "\n",
    "\n",
    "# Define the number of times we want to print \"Hello, World!\"\n",
    "num_times = 5\n",
    "\n",
    "# Use a for loop to repeat the print statement\n",
    "for i in range(num_times):\n",
    "    print(\"Hello, World!\")\n",
    "\n"
   ]
  },
  {
   "cell_type": "markdown",
   "metadata": {},
   "source": [
    "### Suggested Prompt:\n",
    "Can you show a while loop example?\n",
    "#### Key Learning Outcomes:\n",
    "Copilot explains that while loops 'continue to execute as long as a specified condition is true'.\n",
    "\n",
    "It states that the steps required to achieve a while loop are: \n",
    "1. Commenting the Code\n",
    "2. Defining a Variable\n",
    "3. Initialising a Counter Variable\n",
    "4. Utilising a While Loop\n",
    "5. Printing Inside the Loop\n",
    "6. Incrementing the Counter\n",
    "\n",
    "I attempted to include an example of this code - however the loop did not stop and instead continued to output the print multiple times. This is reflected in my own prompt."
   ]
  },
  {
   "cell_type": "markdown",
   "metadata": {},
   "source": [
    "### My Own Prompt (further explanation):\n",
    "Why did the loop continue to run?\n",
    "#### Key Learning Outcomes:\n",
    "Copilot explained that the loop coninuted without stopping because 'the condition for the loop remained true'.\n",
    "It explains the conditions which affect the infiniteness of the loop and states that the loop runs as long as counter <num_times is true.\n",
    "Here is an example:"
   ]
  },
  {
   "cell_type": "code",
   "execution_count": 1,
   "metadata": {},
   "outputs": [
    {
     "name": "stdout",
     "output_type": "stream",
     "text": [
      "Hello, World!\n",
      "Hello, World!\n",
      "Hello, World!\n",
      "Hello, World!\n",
      "Hello, World!\n"
     ]
    }
   ],
   "source": [
    "\n",
    "num_times = 5\n",
    "counter = 0\n",
    "\n",
    "while counter < num_times:\n",
    "    print(\"Hello, World!\")\n",
    "    counter += 1\n"
   ]
  },
  {
   "cell_type": "markdown",
   "metadata": {},
   "source": [
    "The loop prints \"Hello, World!\" and then increments counter by 1.\n",
    "After the first iteration, counter becomes 1, and the condition counter < num_times is still true.\n",
    "\n",
    "Stopping the Loop:\n",
    "This process repeats until counter reaches 5.\n",
    "When counter is 5, the condition counter < num_times becomes false (5 < 5 is false).\n",
    "At this point, the loop stops."
   ]
  },
  {
   "cell_type": "markdown",
   "metadata": {},
   "source": [
    "## Task: Make Notes about the Benefits and Limitations of using Copilot for Learning Python.\n",
    "\n",
    "### Upon utilising Copilot for Python coding for the fist time, here are some of the benefits:\n",
    "- Copilot is effective in locating and rectifying errors within code.\n",
    "- It is significantly faster at generating code than a human would be.\n",
    "- It possesses the ability to \n",
    "It provides examples which are related to your specific code.\n",
    "- It offers a plethora of different solutions until you find one that is suitable to your unique problems. this also allows users to learn a variety of different coding techniques.\n",
    "\n",
    "### Here are some of the limitations I encountered:\n",
    "- It is not always 100% accurate.\n",
    "- Continously requesting Copilot to generate code may prevent the user from actually learning the skill themselves.\n",
    "- It cannot always completely comprehend specific circumstances, and therefore, the provided code may not be relevant enough.\n",
    "- It provides a restricted explanation as to why certain code needs to be utilised in certain situations."
   ]
  },
  {
   "cell_type": "markdown",
   "metadata": {},
   "source": [
    "## Task: Display an Embedded YouTube Viedo within Jupyter Notebook as Output of Code"
   ]
  },
  {
   "cell_type": "code",
   "execution_count": 1,
   "metadata": {},
   "outputs": [],
   "source": [
    "from IPython.display import *"
   ]
  },
  {
   "cell_type": "code",
   "execution_count": 3,
   "metadata": {},
   "outputs": [
    {
     "data": {
      "image/jpeg": "[encoded data removed]",
      "text/html": [
       "\n",
       "        <iframe\n",
       "            width=\"400\"\n",
       "            height=\"300\"\n",
       "            src=\"https://www.youtube.com/embed/0yCJMt9Mx9c\"\n",
       "            frameborder=\"0\"\n",
       "            allowfullscreen\n",
       "            \n",
       "        ></iframe>\n",
       "        "
      ],
      "text/plain": [
       "<IPython.lib.display.YouTubeVideo at 0x7e219cb0c5c0>"
      ]
     },
     "execution_count": 3,
     "metadata": {},
     "output_type": "execute_result"
    }
   ],
   "source": [
    "YouTubeVideo(\"0yCJMt9Mx9c\")"
   ]
  }
 ],
 "metadata": {
  "kernelspec": {
   "display_name": "Python 3",
   "language": "python",
   "name": "python3"
  },
  "language_info": {
   "codemirror_mode": {
    "name": "ipython",
    "version": 3
   },
   "file_extension": ".py",
   "mimetype": "text/x-python",
   "name": "python",
   "nbconvert_exporter": "python",
   "pygments_lexer": "ipython3",
   "version": "3.12.1"
  }
 },
 "nbformat": 4,
 "nbformat_minor": 2
}
